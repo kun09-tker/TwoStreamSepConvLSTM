{
 "cells": [
  {
   "cell_type": "code",
   "execution_count": 12,
   "metadata": {},
   "outputs": [
    {
     "name": "stdout",
     "output_type": "stream",
     "text": [
      "['sadsdas', 'daskjhdjkjsa', 'sadjgajksdba', 'sadjkasdkbas']\n",
      "{'sadsdas': 1, 'daskjhdjkjsa': 1, 'sadjgajksdba': 0, 'sadjkasdkbas': 1}\n"
     ]
    }
   ],
   "source": [
    "with open(\"a.txt\", \"r\", encoding='utf-8') as file:\n",
    "    data = file.readlines()\n",
    "X_name = []\n",
    "Y_dict = {}\n",
    "for d in data:\n",
    "    [name, label] = d.split(\" \")\n",
    "    X_name.append(name)\n",
    "    Y_dict.update({name:int(label)})\n",
    "print(X_name)\n",
    "print(Y_dict)"
   ]
  }
 ],
 "metadata": {
  "kernelspec": {
   "display_name": "Python 3",
   "language": "python",
   "name": "python3"
  },
  "language_info": {
   "codemirror_mode": {
    "name": "ipython",
    "version": 3
   },
   "file_extension": ".py",
   "mimetype": "text/x-python",
   "name": "python",
   "nbconvert_exporter": "python",
   "pygments_lexer": "ipython3",
   "version": "3.10.6"
  },
  "orig_nbformat": 4,
  "vscode": {
   "interpreter": {
    "hash": "3ed737737e184af00e7304acc342ae5d0aff1b4efd76e1d3c632aa263f6722ee"
   }
  }
 },
 "nbformat": 4,
 "nbformat_minor": 2
}
