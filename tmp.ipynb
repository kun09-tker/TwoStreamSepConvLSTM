{
 "cells": [
  {
   "cell_type": "code",
   "execution_count": 1,
   "metadata": {},
   "outputs": [],
   "source": [
    "a = [{\n",
    "    \"name\": \"ha\",\n",
    "    \"age\": 45\n",
    "    },\n",
    "    {\n",
    "    \"name\": \"has\",\n",
    "    \"age\": 44\n",
    "    },\n",
    "    {\n",
    "    \"name\": \"haa\",\n",
    "    \"age\": 89\n",
    "    },\n",
    "    {\n",
    "    \"name\": \"hdfa\",\n",
    "    \"age\": 23\n",
    "    }\n",
    "]"
   ]
  },
  {
   "cell_type": "code",
   "execution_count": 2,
   "metadata": {},
   "outputs": [
    {
     "name": "stdout",
     "output_type": "stream",
     "text": [
      "{'ha': 45, 'has': 44, 'haa': 89, 'hdfa': 23}\n"
     ]
    }
   ],
   "source": [
    "b = {ai[\"name\"]:ai[\"age\"] for ai in a}\n",
    "print(b)"
   ]
  },
  {
   "cell_type": "code",
   "execution_count": 3,
   "metadata": {},
   "outputs": [
    {
     "data": {
      "text/plain": [
       "array([ 0,  1,  2,  3,  4,  5,  6,  7,  8,  9, 10, 11, 12, 13, 14, 15, 16,\n",
       "       17, 18, 19, 20, 21, 22, 23, 24, 25, 26, 27, 28, 29, 30, 31, 32, 33,\n",
       "       34, 35, 36, 37, 38, 39, 40, 41, 42, 43, 44])"
      ]
     },
     "execution_count": 3,
     "metadata": {},
     "output_type": "execute_result"
    }
   ],
   "source": [
    "import numpy as np\n",
    "np.arange(45)"
   ]
  },
  {
   "cell_type": "code",
   "execution_count": 68,
   "metadata": {},
   "outputs": [
    {
     "name": "stdout",
     "output_type": "stream",
     "text": [
      "[2 5 6 7]\n",
      "[{'name': 'haa', 'age': 3}, {'name': 'hdfa', 'age': 6}, {'name': 'hdfa', 'age': 7}, {'name': 'hdfa', 'age': 8}]\n"
     ]
    }
   ],
   "source": [
    "a = [{\n",
    "    \"name\": \"ha\",\n",
    "    \"age\": 1\n",
    "    },\n",
    "    {\n",
    "    \"name\": \"has\",\n",
    "    \"age\": 2\n",
    "    },\n",
    "    {\n",
    "    \"name\": \"haa\",\n",
    "    \"age\": 3\n",
    "    },\n",
    "    {\n",
    "    \"name\": \"hdfa\",\n",
    "    \"age\": 4\n",
    "    },\n",
    "        {\n",
    "    \"name\": \"hdfa\",\n",
    "    \"age\": 5\n",
    "    },\n",
    "        {\n",
    "    \"name\": \"hdfa\",\n",
    "    \"age\": 6\n",
    "    },\n",
    "        {\n",
    "    \"name\": \"hdfa\",\n",
    "    \"age\": 7\n",
    "    },\n",
    "        {\n",
    "    \"name\": \"hdfa\",\n",
    "    \"age\": 8\n",
    "    },\n",
    "        {\n",
    "    \"name\": \"hdfa\",\n",
    "    \"age\": 9\n",
    "    }\n",
    "]\n",
    "tagert = 4\n",
    "indexes = np.arange(len(a))\n",
    "np.random.shuffle(indexes)\n",
    "indexes = np.sort(indexes[:tagert])\n",
    "print(indexes)\n",
    "a = [a[i] for i in indexes]\n",
    "print(a)"
   ]
  }
 ],
 "metadata": {
  "kernelspec": {
   "display_name": "Python 3",
   "language": "python",
   "name": "python3"
  },
  "language_info": {
   "codemirror_mode": {
    "name": "ipython",
    "version": 3
   },
   "file_extension": ".py",
   "mimetype": "text/x-python",
   "name": "python",
   "nbconvert_exporter": "python",
   "pygments_lexer": "ipython3",
   "version": "3.10.6"
  },
  "orig_nbformat": 4,
  "vscode": {
   "interpreter": {
    "hash": "3ed737737e184af00e7304acc342ae5d0aff1b4efd76e1d3c632aa263f6722ee"
   }
  }
 },
 "nbformat": 4,
 "nbformat_minor": 2
}
